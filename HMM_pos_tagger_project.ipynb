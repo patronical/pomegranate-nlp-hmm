{
 "cells": [
  {
   "cell_type": "markdown",
   "metadata": {},
   "source": [
    "# Project: Part of Speech Tagging with Hidden Markov Models \n",
    "---\n",
    "### Introduction\n",
    "\n",
    "Part of speech tagging is the process of determining the syntactic category of a word from the words in its surrounding context. It is often used to help disambiguate natural language phrases because it can be done quickly with high accuracy. Tagging can be used for many NLP tasks like determining correct pronunciation during speech synthesis (for example, _dis_-count as a noun vs dis-_count_ as a verb), for information retrieval, and for word sense disambiguation.\n",
    "\n",
    "In this notebook, we use the [Pomegranate](http://pomegranate.readthedocs.io/) library to build a hidden Markov model for part of speech tagging using a \"universal\" tagset. Hidden Markov models have been able to achieve [>96% tag accuracy with larger tagsets on realistic text corpora](http://www.coli.uni-saarland.de/~thorsten/publications/Brants-ANLP00.pdf). Hidden Markov models have also been used for speech recognition and speech generation, machine translation, gene recognition for bioinformatics, and human gesture recognition for computer vision, and more. \n",
    "\n",
    "This is a supervised machine learning project where known part of speech tags are provided for building trained models.\n",
    "\n",
    "###  Implementation Notes\n",
    "\n",
    "This notebook uses version Python 3.  \n",
    "It loads the brown corpus from NLTK into pandas.  \n",
    "It does not use the recommended helper class for natural language processing.  \n",
    "For educational purposes, this code is not written for coding efficiency.  \n",
    "This may run slower than other implementations as a trade-off."
   ]
  },
  {
   "cell_type": "markdown",
   "metadata": {},
   "source": [
    "### (1) Import tools and data."
   ]
  },
  {
   "cell_type": "code",
   "execution_count": 1,
   "metadata": {},
   "outputs": [
    {
     "name": "stdout",
     "output_type": "stream",
     "text": [
      "[nltk_data] Downloading package punkt to\n",
      "[nltk_data]     C:\\Users\\Gamer\\AppData\\Roaming\\nltk_data...\n",
      "[nltk_data]   Package punkt is already up-to-date!\n",
      "[nltk_data] Downloading package brown to\n",
      "[nltk_data]     C:\\Users\\Gamer\\AppData\\Roaming\\nltk_data...\n",
      "[nltk_data]   Package brown is already up-to-date!\n",
      "[nltk_data] Downloading package universal_tagset to\n",
      "[nltk_data]     C:\\Users\\Gamer\\AppData\\Roaming\\nltk_data...\n",
      "[nltk_data]   Package universal_tagset is already up-to-date!\n"
     ]
    }
   ],
   "source": [
    "import matplotlib.pyplot as plt\n",
    "import numpy as np\n",
    "import itertools\n",
    "import pandas as pd\n",
    "from sklearn.model_selection import train_test_split\n",
    "from collections import defaultdict, Counter\n",
    "from IPython.core.display import HTML\n",
    "\n",
    "from pomegranate import *\n",
    "import random\n",
    "import math\n",
    "random.seed(0)\n",
    "\n",
    "import nltk\n",
    "nltk.download('punkt')\n",
    "nltk.download('brown')\n",
    "nltk.download('universal_tagset')\n",
    "from nltk.corpus import brown\n",
    "from nltk import bigrams\n",
    "\n",
    "from matplotlib_venn import venn2\n",
    "from sklearn.metrics import confusion_matrix\n",
    "from sklearn import metrics"
   ]
  },
  {
   "cell_type": "markdown",
   "metadata": {},
   "source": [
    "### (2) Explore the data structure."
   ]
  },
  {
   "cell_type": "code",
   "execution_count": 2,
   "metadata": {},
   "outputs": [
    {
     "name": "stdout",
     "output_type": "stream",
     "text": [
      "['adventure', 'belles_lettres', 'editorial', 'fiction', 'government', 'hobbies', 'humor', 'learned', 'lore', 'mystery', 'news', 'religion', 'reviews', 'romance', 'science_fiction']\n"
     ]
    }
   ],
   "source": [
    "# reveal the categories of the corpus\n",
    "categories = brown.categories()\n",
    "print(categories)"
   ]
  },
  {
   "cell_type": "code",
   "execution_count": 3,
   "metadata": {},
   "outputs": [
    {
     "data": {
      "text/html": [
       "<div>\n",
       "<style scoped>\n",
       "    .dataframe tbody tr th:only-of-type {\n",
       "        vertical-align: middle;\n",
       "    }\n",
       "\n",
       "    .dataframe tbody tr th {\n",
       "        vertical-align: top;\n",
       "    }\n",
       "\n",
       "    .dataframe thead th {\n",
       "        text-align: right;\n",
       "    }\n",
       "</style>\n",
       "<table border=\"1\" class=\"dataframe\">\n",
       "  <thead>\n",
       "    <tr style=\"text-align: right;\">\n",
       "      <th></th>\n",
       "      <th>category</th>\n",
       "      <th>words</th>\n",
       "      <th>pos_target</th>\n",
       "    </tr>\n",
       "    <tr>\n",
       "      <th>b100</th>\n",
       "      <th></th>\n",
       "      <th></th>\n",
       "      <th></th>\n",
       "    </tr>\n",
       "  </thead>\n",
       "  <tbody>\n",
       "    <tr>\n",
       "      <th>0</th>\n",
       "      <td>news</td>\n",
       "      <td>[The, Fulton, County, Grand, Jury, said, Frida...</td>\n",
       "      <td>[DET, NOUN, NOUN, ADJ, NOUN, VERB, NOUN, DET, ...</td>\n",
       "    </tr>\n",
       "    <tr>\n",
       "      <th>1</th>\n",
       "      <td>news</td>\n",
       "      <td>[The, jury, further, said, in, term-end, prese...</td>\n",
       "      <td>[DET, NOUN, ADV, VERB, ADP, NOUN, NOUN, ADP, D...</td>\n",
       "    </tr>\n",
       "    <tr>\n",
       "      <th>2</th>\n",
       "      <td>news</td>\n",
       "      <td>[The, September-October, term, jury, had, been...</td>\n",
       "      <td>[DET, NOUN, NOUN, NOUN, VERB, VERB, VERB, ADP,...</td>\n",
       "    </tr>\n",
       "    <tr>\n",
       "      <th>3</th>\n",
       "      <td>news</td>\n",
       "      <td>[``, Only, a, relative, handful, of, such, rep...</td>\n",
       "      <td>[., ADV, DET, ADJ, NOUN, ADP, ADJ, NOUN, VERB,...</td>\n",
       "    </tr>\n",
       "    <tr>\n",
       "      <th>4</th>\n",
       "      <td>news</td>\n",
       "      <td>[The, jury, said, it, did, find, that, many, o...</td>\n",
       "      <td>[DET, NOUN, VERB, PRON, VERB, VERB, ADP, ADJ, ...</td>\n",
       "    </tr>\n",
       "  </tbody>\n",
       "</table>\n",
       "</div>"
      ],
      "text/plain": [
       "     category                                              words  \\\n",
       "b100                                                               \n",
       "0        news  [The, Fulton, County, Grand, Jury, said, Frida...   \n",
       "1        news  [The, jury, further, said, in, term-end, prese...   \n",
       "2        news  [The, September-October, term, jury, had, been...   \n",
       "3        news  [``, Only, a, relative, handful, of, such, rep...   \n",
       "4        news  [The, jury, said, it, did, find, that, many, o...   \n",
       "\n",
       "                                             pos_target  \n",
       "b100                                                     \n",
       "0     [DET, NOUN, NOUN, ADJ, NOUN, VERB, NOUN, DET, ...  \n",
       "1     [DET, NOUN, ADV, VERB, ADP, NOUN, NOUN, ADP, D...  \n",
       "2     [DET, NOUN, NOUN, NOUN, VERB, VERB, VERB, ADP,...  \n",
       "3     [., ADV, DET, ADJ, NOUN, ADP, ADJ, NOUN, VERB,...  \n",
       "4     [DET, NOUN, VERB, PRON, VERB, VERB, ADP, ADJ, ...  "
      ]
     },
     "execution_count": 3,
     "metadata": {},
     "output_type": "execute_result"
    }
   ],
   "source": [
    "# build dataframe for the brown corpus\n",
    "fileids = brown.fileids()\n",
    "bcn = []\n",
    "bwt = []\n",
    "bps = []\n",
    "for file in fileids:\n",
    "    for sentence in brown.tagged_sents(tagset='universal', fileids = [file]):\n",
    "        bcn.append(brown.categories(fileids = [file])[0])\n",
    "        wrds = []\n",
    "        tags = []\n",
    "        for tup in sentence:\n",
    "            wrds.append(tup[0])\n",
    "            tags.append(tup[1])\n",
    "        bwt.append(wrds)\n",
    "        bps.append(tags)\n",
    "    \n",
    "data = pd.DataFrame({'category':bcn,'words':bwt, 'pos_target':bps})\n",
    "data.index.name = 'b100'\n",
    "data.head()    "
   ]
  },
  {
   "cell_type": "code",
   "execution_count": 4,
   "metadata": {},
   "outputs": [
    {
     "name": "stdout",
     "output_type": "stream",
     "text": [
      "Brown Corpus has 57340 sentences.\n"
     ]
    }
   ],
   "source": [
    "# verify the dataframe size as the number of sentences\n",
    "print('Brown Corpus has {} sentences.'.format(len(data)))"
   ]
  },
  {
   "cell_type": "code",
   "execution_count": 5,
   "metadata": {},
   "outputs": [
    {
     "name": "stdout",
     "output_type": "stream",
     "text": [
      "Brown Corpus contains 1161192 word occurances.\n"
     ]
    }
   ],
   "source": [
    "#number of words in brown is the total words in test and train\n",
    "nbw = len(brown.words())\n",
    "print('Brown Corpus contains {} word occurances.'.format(nbw))"
   ]
  },
  {
   "cell_type": "code",
   "execution_count": 6,
   "metadata": {},
   "outputs": [
    {
     "name": "stdout",
     "output_type": "stream",
     "text": [
      "Brown Corpus has a vocabulary of 56057 unique words.\n"
     ]
    }
   ],
   "source": [
    "#number of unique words in brown\n",
    "ubw = len(set(brown.words()))\n",
    "print('Brown Corpus has a vocabulary of {} unique words.'.format(ubw))"
   ]
  },
  {
   "cell_type": "markdown",
   "metadata": {},
   "source": [
    "### (3) Split the data into training and testing sets."
   ]
  },
  {
   "cell_type": "code",
   "execution_count": 7,
   "metadata": {},
   "outputs": [],
   "source": [
    "# do a 'stratified' train-test split on the sentances\n",
    "# assume language use differs between category genre\n",
    "df_train,df_test = train_test_split(data, stratify=data['category'], test_size=0.20, random_state=13)"
   ]
  },
  {
   "cell_type": "code",
   "execution_count": 8,
   "metadata": {},
   "outputs": [
    {
     "name": "stdout",
     "output_type": "stream",
     "text": [
      "There are 57340 sentences in the corpus.\n",
      "There are 45872 sentences in the training set.\n",
      "There are 11468 sentences in the testing set.\n"
     ]
    },
    {
     "data": {
      "text/html": [
       "<div class=\"alert alert-block alert-success\">Our test and train data is ready to go!</div>"
      ],
      "text/plain": [
       "<IPython.core.display.HTML object>"
      ]
     },
     "execution_count": 8,
     "metadata": {},
     "output_type": "execute_result"
    }
   ],
   "source": [
    "print(\"There are {} sentences in the corpus.\".format(len(data)))\n",
    "print(\"There are {} sentences in the training set.\".format(len(df_train)))\n",
    "print(\"There are {} sentences in the testing set.\".format(len(df_test)))\n",
    "\n",
    "assert len(data) == len(df_train) + len(df_test), \\\n",
    "       \"The number of sentences in the training set + testing set should sum to the number of sentences in the corpus\"\n",
    "HTML('<div class=\"alert alert-block alert-success\">Our test and train data is ready to go!</div>')"
   ]
  },
  {
   "cell_type": "markdown",
   "metadata": {},
   "source": [
    "### (4) Compute one word 'unigram' probabilities."
   ]
  },
  {
   "cell_type": "markdown",
   "metadata": {},
   "source": [
    "We use part of this to convert emission counts to emission probabilities."
   ]
  },
  {
   "cell_type": "code",
   "execution_count": 9,
   "metadata": {},
   "outputs": [],
   "source": [
    "# build count-dictionary of word tokens using train data\n",
    "# assumes words are independant like a bag of words\n",
    "swc = Counter()\n",
    "for _,nrows in df_train.iterrows():\n",
    "    # add start tag\n",
    "    swc['<start>'] += 1\n",
    "    # add sentence tags\n",
    "    for tag in nrows['words']:\n",
    "        swc[tag.lower()] += 1\n",
    "    # add end tuple\n",
    "    swc['<end>'] += 1"
   ]
  },
  {
   "cell_type": "code",
   "execution_count": 10,
   "metadata": {},
   "outputs": [
    {
     "data": {
      "text/plain": [
       "928792"
      ]
     },
     "execution_count": 10,
     "metadata": {},
     "output_type": "execute_result"
    }
   ],
   "source": [
    "# total train words\n",
    "# omit start and end tags\n",
    "tot_train_words = sum(swc.values()) - (2*len(df_train))\n",
    "tot_train_words"
   ]
  },
  {
   "cell_type": "code",
   "execution_count": 11,
   "metadata": {},
   "outputs": [],
   "source": [
    "# build the uni-gram probability function\n",
    "# assumes word independance like a bag of words\n",
    "def prb_sw(word):\n",
    "    # make sure it's lower case\n",
    "    wordlow = word.lower()\n",
    "    # add one to smooth for an unknown word\n",
    "    tot_words = tot_train_words + 1\n",
    "    if wordlow in swc:\n",
    "        freq = swc[wordlow]\n",
    "    else:\n",
    "        #unknown entry \n",
    "        freq = 1/tot_words\n",
    "    return freq/tot_words"
   ]
  },
  {
   "cell_type": "code",
   "execution_count": 12,
   "metadata": {},
   "outputs": [
    {
     "data": {
      "text/plain": [
       "0.060187792112989656"
      ]
     },
     "execution_count": 12,
     "metadata": {},
     "output_type": "execute_result"
    }
   ],
   "source": [
    "# test it out\n",
    "prb_sw('the')"
   ]
  },
  {
   "cell_type": "markdown",
   "metadata": {},
   "source": [
    "### (5) Compute single tag probabilities."
   ]
  },
  {
   "cell_type": "code",
   "execution_count": 13,
   "metadata": {},
   "outputs": [],
   "source": [
    "# build count-dictionary of pos tags using train data\n",
    "# assumes tags are independant like a bag of tags\n",
    "stc = Counter()\n",
    "for _,nrows in df_train.iterrows():\n",
    "    # add start tag\n",
    "    stc['<START>'] += 1\n",
    "    # add sentence tags\n",
    "    for tag in nrows['pos_target']:\n",
    "        stc[tag] += 1\n",
    "    # add end tuple\n",
    "    stc['<END>'] += 1"
   ]
  },
  {
   "cell_type": "code",
   "execution_count": 14,
   "metadata": {},
   "outputs": [
    {
     "data": {
      "text/plain": [
       "928792"
      ]
     },
     "execution_count": 14,
     "metadata": {},
     "output_type": "execute_result"
    }
   ],
   "source": [
    "# total number of tags in training set\n",
    "# excluding the start and end tags\n",
    "ugt_train_tot = sum(stc.values()) - (2*len(df_train))\n",
    "ugt_train_tot"
   ]
  },
  {
   "cell_type": "code",
   "execution_count": 15,
   "metadata": {},
   "outputs": [],
   "source": [
    "# build a single tag probability function\n",
    "def prb_st(tag):\n",
    "    # add one to smooth for an unknown tag\n",
    "    tot_stc = ugt_train_tot + 1\n",
    "    if tag in stc:\n",
    "        freq = stc[tag]\n",
    "    else:\n",
    "        #highly unlikely unknown tag \n",
    "        freq = 1/tot_stc\n",
    "    return freq/tot_stc"
   ]
  },
  {
   "cell_type": "code",
   "execution_count": 16,
   "metadata": {},
   "outputs": [
    {
     "data": {
      "text/html": [
       "<div class=\"alert alert-block alert-success\">Your tag unigrams look good!</div>"
      ],
      "text/plain": [
       "<IPython.core.display.HTML object>"
      ]
     },
     "execution_count": 16,
     "metadata": {},
     "output_type": "execute_result"
    }
   ],
   "source": [
    "assert len(set(stc.keys())) >= 12, \\\n",
    "       \"Uh oh. It looks like your tag counts doesn't include all the tags!\"\n",
    "assert min(stc, key=stc.get) == 'X', \\\n",
    "       \"Hmmm...'X' is expected to be the least common class\"\n",
    "assert max(stc, key=stc.get) == 'NOUN', \\\n",
    "       \"Hmmm...'NOUN' is expected to be the most common class\"\n",
    "HTML('<div class=\"alert alert-block alert-success\">Your tag unigrams look good!</div>')"
   ]
  },
  {
   "cell_type": "markdown",
   "metadata": {},
   "source": [
    "### (6) Program the emission probability function."
   ]
  },
  {
   "cell_type": "code",
   "execution_count": 17,
   "metadata": {},
   "outputs": [
    {
     "name": "stdout",
     "output_type": "stream",
     "text": [
      "['.', 'ADJ', 'ADP', 'ADV', 'CONJ', 'DET', 'NOUN', 'NUM', 'PRON', 'PRT', 'VERB', 'X']\n",
      "number of unique pos tags = 12\n"
     ]
    }
   ],
   "source": [
    "# confirm there are twelve entries for parts of speach\n",
    "# bps is our big list of lists of brown pos tags\n",
    "pos_types = sorted(list(set([y for x in bps for y in x])))\n",
    "print(pos_types)\n",
    "print('number of unique pos tags = {}'.format(len(pos_types)))"
   ]
  },
  {
   "cell_type": "markdown",
   "metadata": {},
   "source": [
    "This is used downstream to remember all the tag types."
   ]
  },
  {
   "cell_type": "code",
   "execution_count": 18,
   "metadata": {},
   "outputs": [
    {
     "name": "stdout",
     "output_type": "stream",
     "text": [
      "['.', 'ADJ', 'ADP', 'ADV', 'CONJ', 'DET', 'NOUN', 'NUM', 'PRON', 'PRT', 'VERB', 'X']\n",
      "[118162, 66836, 115565, 45015, 30579, 109610, 220369, 11858, 39494, 23917, 146277, 1110]\n"
     ]
    }
   ],
   "source": [
    "# reveal 'NOUN' as the most frequent tag\n",
    "print(pos_types)\n",
    "print([stc[i] for i in pos_types])"
   ]
  },
  {
   "cell_type": "code",
   "execution_count": 19,
   "metadata": {},
   "outputs": [],
   "source": [
    "#build dictionary for pos to word emission probabilities\n",
    "def p_to_w(df):\n",
    "    posword = defaultdict(Counter)\n",
    "    # upstream dividing by total counts\n",
    "    inc = 1 / tot_train_words\n",
    "    for i,nrows in df.iterrows():\n",
    "        for num, wrd in enumerate(nrows['words']):\n",
    "            posword[nrows['pos_target'][num]][wrd.lower()] += inc\n",
    "    return posword   "
   ]
  },
  {
   "cell_type": "code",
   "execution_count": 20,
   "metadata": {},
   "outputs": [],
   "source": [
    "#build the probability dictionary out of train data\n",
    "emission_counts = p_to_w(df_train)"
   ]
  },
  {
   "cell_type": "code",
   "execution_count": 21,
   "metadata": {},
   "outputs": [
    {
     "data": {
      "text/plain": [
       "0.06018462691323978"
      ]
     },
     "execution_count": 21,
     "metadata": {},
     "output_type": "execute_result"
    }
   ],
   "source": [
    "# these are probabilities, not counts\n",
    "emission_counts['DET']['the']"
   ]
  },
  {
   "cell_type": "code",
   "execution_count": 22,
   "metadata": {},
   "outputs": [
    {
     "data": {
      "text/html": [
       "<div class=\"alert alert-block alert-success\">Your emission counts look good!</div>"
      ],
      "text/plain": [
       "<IPython.core.display.HTML object>"
      ]
     },
     "execution_count": 22,
     "metadata": {},
     "output_type": "execute_result"
    }
   ],
   "source": [
    "assert len(emission_counts) == 12, \\\n",
    "       \"Uh oh. There should be 12 tags in your dictionary.\"\n",
    "assert emission_counts[\"NOUN\"].most_common()[0][0] == 'time', \\\n",
    "       \"Hmmm...'time' is expected to be the most common NOUN.\"\n",
    "HTML('<div class=\"alert alert-block alert-success\">Your emission counts look good!</div>')"
   ]
  },
  {
   "cell_type": "code",
   "execution_count": 23,
   "metadata": {},
   "outputs": [],
   "source": [
    "# Add dummy tags to flag start and ends for iterrating sentences\n",
    "emission_counts['<END>']['<end>'] = len(df_train) / tot_train_words\n",
    "emission_counts['<START>']['<start>'] = len(df_train) / tot_train_words"
   ]
  },
  {
   "cell_type": "markdown",
   "metadata": {},
   "source": [
    "### (7) Build dictionaries for taggers."
   ]
  },
  {
   "cell_type": "code",
   "execution_count": 24,
   "metadata": {},
   "outputs": [],
   "source": [
    "# build count-dictionary for word to pos counts\n",
    "def w_to_p(df):\n",
    "    wordpos = defaultdict(Counter)\n",
    "    for i,nrows in df.iterrows():\n",
    "        for num, wrd in enumerate(nrows['words']):\n",
    "            wordpos[wrd.lower()][nrows['pos_target'][num]] += 1\n",
    "    return wordpos\n",
    "\n",
    "#build the count-dictionary from the train data\n",
    "wtp_train = w_to_p(df_train)"
   ]
  },
  {
   "cell_type": "code",
   "execution_count": 25,
   "metadata": {},
   "outputs": [],
   "source": [
    "# add dummy tags to dictionary for iterrating sentances\n",
    "wtp_train['<end>']['<END>'] = len(df_train) / tot_train_words\n",
    "wtp_train['<start>']['<START>'] = len(df_train) / tot_train_words"
   ]
  },
  {
   "cell_type": "markdown",
   "metadata": {},
   "source": [
    "### (8) Visualize word data using Venn diagrams."
   ]
  },
  {
   "cell_type": "code",
   "execution_count": 26,
   "metadata": {},
   "outputs": [
    {
     "data": {
      "text/plain": [
       "45078"
      ]
     },
     "execution_count": 26,
     "metadata": {},
     "output_type": "execute_result"
    }
   ],
   "source": [
    "# check the vocabulary size of the training set\n",
    "vocab_train = len(wtp_train)\n",
    "vocab_train"
   ]
  },
  {
   "cell_type": "code",
   "execution_count": 27,
   "metadata": {},
   "outputs": [
    {
     "data": {
      "text/plain": [
       "22786"
      ]
     },
     "execution_count": 27,
     "metadata": {},
     "output_type": "execute_result"
    }
   ],
   "source": [
    "# check the vocabulary size of the testing set\n",
    "wtp_test = w_to_p(df_test)\n",
    "vocab_test = len(wtp_test)\n",
    "vocab_test"
   ]
  },
  {
   "cell_type": "code",
   "execution_count": 28,
   "metadata": {},
   "outputs": [
    {
     "data": {
      "text/plain": [
       "18047"
      ]
     },
     "execution_count": 28,
     "metadata": {},
     "output_type": "execute_result"
    }
   ],
   "source": [
    "# number of words intersected by training and testing set vocabularies\n",
    "vocab_join = sum([int(k in wtp_test) for k in wtp_train])\n",
    "vocab_join"
   ]
  },
  {
   "cell_type": "code",
   "execution_count": 29,
   "metadata": {},
   "outputs": [
    {
     "data": {
      "text/plain": [
       "4739"
      ]
     },
     "execution_count": 29,
     "metadata": {},
     "output_type": "execute_result"
    }
   ],
   "source": [
    "# number of words mutually exclusive in training and testing set vocabularies\n",
    "vocab_out = sum([int(k not in wtp_train) for k in wtp_test])\n",
    "vocab_out"
   ]
  },
  {
   "cell_type": "code",
   "execution_count": 30,
   "metadata": {},
   "outputs": [
    {
     "data": {
      "image/png": "[encoded data removed]",
      "text/plain": [
       "<Figure size 432x432 with 1 Axes>"
      ]
     },
     "metadata": {},
     "output_type": "display_data"
    }
   ],
   "source": [
    "# make a Venn diagram of the vocabulary\n",
    "plt.figure(figsize=(6,6))\n",
    "v = venn2(subsets = (vocab_out, vocab_train, vocab_join))\n",
    "plt.title(\"Vocabulary Comparison\")\n",
    "p0 = v.get_label_by_id('10').get_position()\n",
    "v.get_label_by_id('10').set_position([p0[0]-0.05, p0[1]+0.0])\n",
    "v.get_label_by_id('A').set_text('Test')\n",
    "p1 = v.get_label_by_id('B').get_position()\n",
    "v.get_label_by_id('A').set_position([p1[0]-0.55, p1[1]+0.9])\n",
    "v.get_label_by_id('B').set_text('Train')\n",
    "p2 = v.get_label_by_id('B').get_position()\n",
    "v.get_label_by_id('B').set_position([p2[0]+0.4, p2[1]+0.1])\n",
    "plt.annotate('Outside Train', xy=v.get_label_by_id('100').get_position() - np.array([0, 0.05]), xytext=(-70,-70),\n",
    "             ha='center', textcoords='offset points', bbox=dict(boxstyle='round,pad=0.5', fc='gray', alpha=0.1),\n",
    "             arrowprops=dict(arrowstyle='->', connectionstyle='arc3,rad=0.5',color='gray'))\n",
    "plt.show()"
   ]
  },
  {
   "cell_type": "markdown",
   "metadata": {},
   "source": [
    "The test set outcast words can catalyze transition and emission errors in HMM models."
   ]
  },
  {
   "cell_type": "code",
   "execution_count": 31,
   "metadata": {
    "scrolled": true
   },
   "outputs": [
    {
     "name": "stdout",
     "output_type": "stream",
     "text": [
      "test outcast word occurance count =  5155\n",
      "test word count =  232400\n",
      "test sentence count =  11468\n",
      "fraction test words not in train set =  0.022\n"
     ]
    }
   ],
   "source": [
    "# find the number of times the outcast words occur in test set\n",
    "outwords = []\n",
    "for key in wtp_test:\n",
    "    if key not in wtp_train:\n",
    "        outwords.append(key)\n",
    "\n",
    "t_count = 0\n",
    "o_count = 0\n",
    "s_count = 0\n",
    "for _,nrows in df_test.iterrows():\n",
    "    for word in nrows['words']:\n",
    "        if word.lower() in outwords:\n",
    "            o_count +=1\n",
    "        t_count +=1\n",
    "    s_count +=1\n",
    "        \n",
    "print('test outcast word occurance count = ',o_count)\n",
    "print('test word count = ', t_count)\n",
    "print('test sentence count = ', s_count)\n",
    "print('fraction test words not in train set = ',\\\n",
    "      round(o_count/t_count,3)) "
   ]
  },
  {
   "cell_type": "markdown",
   "metadata": {},
   "source": [
    "The ~2% outcast words may cause more than 2% irreducible error in tagging accuracy.  \n",
    "This is because they impact both emission and transition probabilities.  \n",
    "This seems to act as a ceiling for the accuracy figure."
   ]
  },
  {
   "cell_type": "code",
   "execution_count": 32,
   "metadata": {},
   "outputs": [
    {
     "data": {
      "image/png": "[encoded data removed]",
      "text/plain": [
       "<Figure size 432x432 with 1 Axes>"
      ]
     },
     "metadata": {},
     "output_type": "display_data"
    }
   ],
   "source": [
    "# make a Venn diagram of the word occurance\n",
    "plt.figure(figsize=(6,6))\n",
    "v = venn2(subsets = (o_count, nbw-t_count, t_count-o_count))\n",
    "plt.title(\"Word Occurance Comparison\")\n",
    "p1 = v.get_label_by_id('10').get_position()\n",
    "v.get_label_by_id('10').set_position([p1[0]-0.05, p1[1]+0.0])\n",
    "p2 = v.get_label_by_id('11').get_position()\n",
    "v.get_label_by_id('11').set_position([p2[0]+0.03, p2[1]+0.0])\n",
    "v.get_label_by_id('A').set_text('Test')\n",
    "p3 = v.get_label_by_id('B').get_position()\n",
    "v.get_label_by_id('A').set_position([p3[0]-0.55, p3[1]+0.8])\n",
    "v.get_label_by_id('B').set_text('Train')\n",
    "p4 = v.get_label_by_id('B').get_position()\n",
    "v.get_label_by_id('B').set_position([p4[0]+0.4, p4[1]+0.2])\n",
    "\n",
    "plt.annotate('Outside Train', xy=v.get_label_by_id('100').get_position() - np.array([0, 0.05]), xytext=(-70,-70),\n",
    "             ha='center', textcoords='offset points', bbox=dict(boxstyle='round,pad=0.5', fc='gray', alpha=0.1),\n",
    "             arrowprops=dict(arrowstyle='->', connectionstyle='arc3,rad=0.5',color='gray'))\n",
    "plt.show()"
   ]
  },
  {
   "cell_type": "markdown",
   "metadata": {},
   "source": [
    "The Test / Train split presents an everpresent outcast word problem.  \n",
    "This seems a consequence of random test train splits.  "
   ]
  },
  {
   "cell_type": "code",
   "execution_count": 33,
   "metadata": {},
   "outputs": [
    {
     "name": "stdout",
     "output_type": "stream",
     "text": [
      "There are a total of 1161192 samples of 56057 unique words in the corpus.\n",
      "There are 928792 samples of 45078 unique words in the training set.\n",
      "There are 232400 samples of 22786 unique words in the testing set.\n",
      "There are 4739 unique words in the test set that are missing in the training set.\n"
     ]
    }
   ],
   "source": [
    "print(\"There are a total of {} samples of {} unique words in the corpus.\"\n",
    "      .format(nbw, ubw))\n",
    "print(\"There are {} samples of {} unique words in the training set.\"\n",
    "      .format(tot_train_words, vocab_train))\n",
    "print(\"There are {} samples of {} unique words in the testing set.\"\n",
    "      .format(t_count, vocab_test))\n",
    "print(\"There are {} unique words in the test set that are missing in the training set.\"\n",
    "      .format(vocab_out))\n",
    "\n",
    "assert nbw == ugt_train_tot + t_count, \\\n",
    "       \"The number of training + test samples should sum to the total number of samples\""
   ]
  },
  {
   "cell_type": "markdown",
   "metadata": {},
   "source": [
    "### (9) Make predictions with the MFC model."
   ]
  },
  {
   "cell_type": "code",
   "execution_count": 34,
   "metadata": {},
   "outputs": [],
   "source": [
    "# build function to return most frequent class tag\n",
    "def mfc_tag(word):   \n",
    "    #convert word to lowercase\n",
    "    wordlow = word.lower()\n",
    "    #check if unknown\n",
    "    if (wordlow in wtp_train):\n",
    "        # if empty assign most frequent tag\n",
    "        if (wtp_train[wordlow] == Counter()):\n",
    "            tag = 'NOUN'  \n",
    "        # word is known and has counts\n",
    "        else:\n",
    "            tag = (wtp_train[wordlow].most_common()[0][0])     \n",
    "    # word is not in the count-dictionary        \n",
    "    else:\n",
    "        # drop in the most common tag\n",
    "        tag = 'NOUN'\n",
    "    return tag"
   ]
  },
  {
   "cell_type": "code",
   "execution_count": 35,
   "metadata": {},
   "outputs": [
    {
     "data": {
      "text/html": [
       "<div>\n",
       "<style scoped>\n",
       "    .dataframe tbody tr th:only-of-type {\n",
       "        vertical-align: middle;\n",
       "    }\n",
       "\n",
       "    .dataframe tbody tr th {\n",
       "        vertical-align: top;\n",
       "    }\n",
       "\n",
       "    .dataframe thead th {\n",
       "        text-align: right;\n",
       "    }\n",
       "</style>\n",
       "<table border=\"1\" class=\"dataframe\">\n",
       "  <thead>\n",
       "    <tr style=\"text-align: right;\">\n",
       "      <th></th>\n",
       "      <th>category</th>\n",
       "      <th>words</th>\n",
       "      <th>pos_target</th>\n",
       "      <th>mfc_pred</th>\n",
       "    </tr>\n",
       "    <tr>\n",
       "      <th>b100</th>\n",
       "      <th></th>\n",
       "      <th></th>\n",
       "      <th></th>\n",
       "      <th></th>\n",
       "    </tr>\n",
       "  </thead>\n",
       "  <tbody>\n",
       "    <tr>\n",
       "      <th>41158</th>\n",
       "      <td>fiction</td>\n",
       "      <td>[Beckworth, left, the, tent, .]</td>\n",
       "      <td>[NOUN, VERB, DET, NOUN, .]</td>\n",
       "      <td>[NOUN, VERB, DET, NOUN, .]</td>\n",
       "    </tr>\n",
       "    <tr>\n",
       "      <th>16955</th>\n",
       "      <td>lore</td>\n",
       "      <td>[When, Hudson, had, finished, ,, the, ``, town...</td>\n",
       "      <td>[ADV, NOUN, VERB, VERB, ., DET, ., NOUN, NOUN,...</td>\n",
       "      <td>[ADV, NOUN, VERB, VERB, ., DET, ., NOUN, NOUN,...</td>\n",
       "    </tr>\n",
       "    <tr>\n",
       "      <th>2557</th>\n",
       "      <td>news</td>\n",
       "      <td>[The, World, War, 2, ,, German, bomber, rolled...</td>\n",
       "      <td>[DET, NOUN, NOUN, NUM, ., ADJ, NOUN, VERB, ADP...</td>\n",
       "      <td>[DET, NOUN, NOUN, NUM, ., ADJ, NOUN, VERB, PRT...</td>\n",
       "    </tr>\n",
       "    <tr>\n",
       "      <th>57080</th>\n",
       "      <td>humor</td>\n",
       "      <td>[``, Arlene's, a, good, girl, '', ,, my, uncle...</td>\n",
       "      <td>[., PRT, DET, ADJ, NOUN, ., ., DET, NOUN, VERB...</td>\n",
       "      <td>[., PRT, DET, ADJ, NOUN, ., ., DET, NOUN, VERB...</td>\n",
       "    </tr>\n",
       "    <tr>\n",
       "      <th>6751</th>\n",
       "      <td>editorial</td>\n",
       "      <td>[There's, no, sense, in, being, reminded, of, ...</td>\n",
       "      <td>[PRT, DET, NOUN, ADP, VERB, VERB, ADP, NOUN, P...</td>\n",
       "      <td>[PRT, DET, NOUN, ADP, VERB, VERB, ADP, NOUN, A...</td>\n",
       "    </tr>\n",
       "  </tbody>\n",
       "</table>\n",
       "</div>"
      ],
      "text/plain": [
       "        category                                              words  \\\n",
       "b100                                                                  \n",
       "41158    fiction                    [Beckworth, left, the, tent, .]   \n",
       "16955       lore  [When, Hudson, had, finished, ,, the, ``, town...   \n",
       "2557        news  [The, World, War, 2, ,, German, bomber, rolled...   \n",
       "57080      humor  [``, Arlene's, a, good, girl, '', ,, my, uncle...   \n",
       "6751   editorial  [There's, no, sense, in, being, reminded, of, ...   \n",
       "\n",
       "                                              pos_target  \\\n",
       "b100                                                       \n",
       "41158                         [NOUN, VERB, DET, NOUN, .]   \n",
       "16955  [ADV, NOUN, VERB, VERB, ., DET, ., NOUN, NOUN,...   \n",
       "2557   [DET, NOUN, NOUN, NUM, ., ADJ, NOUN, VERB, ADP...   \n",
       "57080  [., PRT, DET, ADJ, NOUN, ., ., DET, NOUN, VERB...   \n",
       "6751   [PRT, DET, NOUN, ADP, VERB, VERB, ADP, NOUN, P...   \n",
       "\n",
       "                                                mfc_pred  \n",
       "b100                                                      \n",
       "41158                         [NOUN, VERB, DET, NOUN, .]  \n",
       "16955  [ADV, NOUN, VERB, VERB, ., DET, ., NOUN, NOUN,...  \n",
       "2557   [DET, NOUN, NOUN, NUM, ., ADJ, NOUN, VERB, PRT...  \n",
       "57080  [., PRT, DET, ADJ, NOUN, ., ., DET, NOUN, VERB...  \n",
       "6751   [PRT, DET, NOUN, ADP, VERB, VERB, ADP, NOUN, A...  "
      ]
     },
     "execution_count": 35,
     "metadata": {},
     "output_type": "execute_result"
    }
   ],
   "source": [
    "# turn pandas warning off\n",
    "pd.options.mode.chained_assignment = None\n",
    "\n",
    "# append dataframe with mfc-prediction lists\n",
    "def make_pred(df):\n",
    "    pred_test = []\n",
    "    for i,nrows in df.iterrows():\n",
    "        pred_pos = []\n",
    "        for word in nrows['words']:\n",
    "            pred_pos.append(mfc_tag(word))\n",
    "        pred_test.append(pred_pos)\n",
    "    df['mfc_pred'] = pred_test\n",
    "    \n",
    "#update the train and test dataframes\n",
    "make_pred(df_train)\n",
    "make_pred(df_test)\n",
    "\n",
    "#view some of a dataframe\n",
    "df_train.head()"
   ]
  },
  {
   "cell_type": "code",
   "execution_count": 36,
   "metadata": {},
   "outputs": [
    {
     "data": {
      "text/html": [
       "<div class=\"alert alert-block alert-success\">Your MFC tagger has all the correct words!</div>"
      ],
      "text/plain": [
       "<IPython.core.display.HTML object>"
      ]
     },
     "execution_count": 36,
     "metadata": {},
     "output_type": "execute_result"
    }
   ],
   "source": [
    "assert len(wtp_train) == vocab_train, \"\"\n",
    "assert all(k in wtp_train for k in wtp_train), \"\"\n",
    "assert sum(int(k not in wtp_train) for k in wtp_test) == vocab_out, \"\"\n",
    "HTML('<div class=\"alert alert-block alert-success\">Your MFC tagger has all the correct words!</div>')"
   ]
  },
  {
   "cell_type": "markdown",
   "metadata": {},
   "source": [
    "### (10) Compute MFC prediction accuracy.\n",
    "We itterate through the dataframe rows and compare values."
   ]
  },
  {
   "cell_type": "code",
   "execution_count": 37,
   "metadata": {},
   "outputs": [],
   "source": [
    "# compare actual and predicted part of speech lists\n",
    "def accuracy(df, ref, pred):\n",
    "    correct = 0\n",
    "    count = 0\n",
    "    for i,nrows in df.iterrows():\n",
    "        correct += len([x for x, y in zip(nrows[ref], nrows[pred]) if x == y])\n",
    "        count += len(nrows['words'])\n",
    "    return correct/count     "
   ]
  },
  {
   "cell_type": "code",
   "execution_count": 38,
   "metadata": {},
   "outputs": [
    {
     "name": "stdout",
     "output_type": "stream",
     "text": [
      "training accuracy mfc_model: 95.58%\n",
      "testing accuracy mfc_model: 94.47%\n"
     ]
    },
    {
     "data": {
      "text/html": [
       "<div class=\"alert alert-block alert-success\">Your MFC tagger accuracy looks correct!</div>"
      ],
      "text/plain": [
       "<IPython.core.display.HTML object>"
      ]
     },
     "execution_count": 38,
     "metadata": {},
     "output_type": "execute_result"
    }
   ],
   "source": [
    "mfc_training_acc = accuracy(df_train, 'pos_target','mfc_pred')\n",
    "print(\"training accuracy mfc_model: {:.2f}%\".format(100 * mfc_training_acc))\n",
    "\n",
    "mfc_testing_acc = accuracy(df_test, 'pos_target','mfc_pred')\n",
    "print(\"testing accuracy mfc_model: {:.2f}%\".format(100 * mfc_testing_acc))\n",
    "\n",
    "assert mfc_training_acc >= 0.955, \"Uh oh. Your MFC accuracy on the training set doesn't look right.\"\n",
    "assert mfc_testing_acc >= 0.925, \"Uh oh. Your MFC accuracy on the testing set doesn't look right.\"\n",
    "HTML('<div class=\"alert alert-block alert-success\">Your MFC tagger accuracy looks correct!</div>')"
   ]
  },
  {
   "cell_type": "markdown",
   "metadata": {},
   "source": [
    "### (11) Compute double part of speach tag or 'bigram tag' probabilities."
   ]
  },
  {
   "cell_type": "code",
   "execution_count": 39,
   "metadata": {},
   "outputs": [],
   "source": [
    "# build count-dictionary for bigram tag tuples\n",
    "# assume tags are co-located\n",
    "# start and end events are integrated\n",
    "btc = Counter()\n",
    "# itterate through tags\n",
    "for _,nrows in df_train.iterrows():\n",
    "    start = ('<START>', nrows['pos_target'][0])\n",
    "    end = (nrows['pos_target'][-1], '<END>')\n",
    "    # add start tuple\n",
    "    btc[start] += 1\n",
    "    # add bigram tuples\n",
    "    for tup in list(bigrams(nrows['pos_target'])):\n",
    "        btc[tup] += 1\n",
    "    # add end tuple\n",
    "    btc[end] += 1"
   ]
  },
  {
   "cell_type": "code",
   "execution_count": 40,
   "metadata": {},
   "outputs": [
    {
     "data": {
      "text/plain": [
       "882920"
      ]
     },
     "execution_count": 40,
     "metadata": {},
     "output_type": "execute_result"
    }
   ],
   "source": [
    "# total number of bigram tags\n",
    "# without the start and end tag entries\n",
    "bgt_train_tot = sum(btc.values()) - (2*len(df_train))\n",
    "bgt_train_tot"
   ]
  },
  {
   "cell_type": "code",
   "execution_count": 41,
   "metadata": {},
   "outputs": [],
   "source": [
    "# build a bigram tag probability function\n",
    "# assumes co-location of two words in tuple\n",
    "def prb_bt(tup):\n",
    "    # add one to smooth for an unknown tuple\n",
    "    tot_btc = bgt_train_tot + 1\n",
    "    if tup in btc:\n",
    "        freq = btc[tup]\n",
    "    else:\n",
    "        #unknown entry \n",
    "        freq = 1/tot_btc\n",
    "    return freq/tot_btc"
   ]
  },
  {
   "cell_type": "code",
   "execution_count": 42,
   "metadata": {},
   "outputs": [
    {
     "data": {
      "text/html": [
       "<div class=\"alert alert-block alert-success\">Your tag bigrams look good!</div>"
      ],
      "text/plain": [
       "<IPython.core.display.HTML object>"
      ]
     },
     "execution_count": 42,
     "metadata": {},
     "output_type": "execute_result"
    }
   ],
   "source": [
    "assert len(set(btc)) >= 144, \\\n",
    "       \"Uh oh. There should be 144 pairs of bigrams (12 tags x 12 tags)\"\n",
    "assert min(btc, key=btc.get) in [('NUM','X'), ('X', 'NUM'), ('PRON', 'X'),('X','<END>')], \\\n",
    "       \"Hmmm...The least common bigram should be one of ('X', 'NUM') or ('PRON', 'X').\"\n",
    "assert max(btc, key=btc.get) in [('DET', 'NOUN')], \\\n",
    "       \"Hmmm...('DET', 'NOUN') is expected to be the most common bigram.\"\n",
    "HTML('<div class=\"alert alert-block alert-success\">Your tag bigrams look good!</div>')"
   ]
  },
  {
   "cell_type": "markdown",
   "metadata": {},
   "source": [
    "### (12) Build two-word 'bigram' probabilities."
   ]
  },
  {
   "cell_type": "code",
   "execution_count": 43,
   "metadata": {},
   "outputs": [],
   "source": [
    "# build a bigram word count dictionary using training data\n",
    "bwc = Counter()\n",
    "for _,nrows in df_train.iterrows():\n",
    "    start = ('<start>', nrows['words'][0])\n",
    "    end = (nrows['words'][-1], '<end>')\n",
    "    # add start tuple\n",
    "    bwc[start] += 1\n",
    "    # add bigram tuples\n",
    "    for tup in list(bigrams(nrows['words'])):\n",
    "        bwc[tup] += 1\n",
    "    # add end tuple\n",
    "    bwc[end] += 1  "
   ]
  },
  {
   "cell_type": "code",
   "execution_count": 44,
   "metadata": {},
   "outputs": [
    {
     "data": {
      "text/plain": [
       "882920"
      ]
     },
     "execution_count": 44,
     "metadata": {},
     "output_type": "execute_result"
    }
   ],
   "source": [
    "# count how many word bigrams there are in the training data \n",
    "bgw_train_tot = sum(bwc.values()) - (2*len(df_train))\n",
    "bgw_train_tot"
   ]
  },
  {
   "cell_type": "code",
   "execution_count": 45,
   "metadata": {},
   "outputs": [],
   "source": [
    "# build a bigram word probability function\n",
    "def prob2(tup):\n",
    "    # add one to laplacian smooth for an unknown word\n",
    "    if tup in bwc:\n",
    "        freq = bwc[tup]\n",
    "    else:\n",
    "        #unknown unlikely entry \n",
    "        freq = 1/bgw_train_tot\n",
    "    return freq/(bgw_train_tot +1)"
   ]
  },
  {
   "cell_type": "markdown",
   "metadata": {},
   "source": [
    "### (13)  Calculate tag start probabilities. "
   ]
  },
  {
   "cell_type": "code",
   "execution_count": 46,
   "metadata": {},
   "outputs": [],
   "source": [
    "# build a dictionary from a dictionary\n",
    "tsp = Counter()\n",
    "for tag in pos_types:\n",
    "    #normalize to all possible starts\n",
    "    tsp[tag] = prb_bt(('<START>',tag)) * bgt_train_tot / len(df_train)"
   ]
  },
  {
   "cell_type": "code",
   "execution_count": 47,
   "metadata": {},
   "outputs": [
    {
     "data": {
      "text/plain": [
       "0.9999988673958372"
      ]
     },
     "execution_count": 47,
     "metadata": {},
     "output_type": "execute_result"
    }
   ],
   "source": [
    "# verify probabilities add to 1\n",
    "sum(tsp.values())"
   ]
  },
  {
   "cell_type": "code",
   "execution_count": 48,
   "metadata": {},
   "outputs": [
    {
     "data": {
      "text/html": [
       "<div class=\"alert alert-block alert-success\">Your starting tag counts look good!</div>"
      ],
      "text/plain": [
       "<IPython.core.display.HTML object>"
      ]
     },
     "execution_count": 48,
     "metadata": {},
     "output_type": "execute_result"
    }
   ],
   "source": [
    "assert len(tsp) == 12, \"Uh oh. There should be 12 tags in your dictionary.\"\n",
    "assert min(tsp, key=tsp.get) == 'X', \"Hmmm...'X' is expected to be the least common starting bigram.\"\n",
    "assert max(tsp, key=tsp.get) == 'DET', \"Hmmm...'DET' is expected to be the most common starting bigram.\"\n",
    "HTML('<div class=\"alert alert-block alert-success\">Your starting tag counts look good!</div>')"
   ]
  },
  {
   "cell_type": "markdown",
   "metadata": {},
   "source": [
    "### (14) Calculate tag end probabilities."
   ]
  },
  {
   "cell_type": "code",
   "execution_count": 49,
   "metadata": {},
   "outputs": [],
   "source": [
    "# build tag end dictionary from bigram tag dictionary\n",
    "tep = Counter()\n",
    "for tag in pos_types:\n",
    "    #normalize to all possible ends\n",
    "    tep[tag] = prb_bt((tag,'<END>')) * bgt_train_tot / len(df_train)"
   ]
  },
  {
   "cell_type": "code",
   "execution_count": 50,
   "metadata": {},
   "outputs": [
    {
     "data": {
      "text/plain": [
       "0.9999988673958371"
      ]
     },
     "execution_count": 50,
     "metadata": {},
     "output_type": "execute_result"
    }
   ],
   "source": [
    "# confirm they total to 1\n",
    "sum(tep.values())"
   ]
  },
  {
   "cell_type": "code",
   "execution_count": 51,
   "metadata": {},
   "outputs": [
    {
     "data": {
      "text/html": [
       "<div class=\"alert alert-block alert-success\">Your ending tag counts look good!</div>"
      ],
      "text/plain": [
       "<IPython.core.display.HTML object>"
      ]
     },
     "execution_count": 51,
     "metadata": {},
     "output_type": "execute_result"
    }
   ],
   "source": [
    "assert len(tep) == 12, \"Uh oh. There should be 12 tags in your dictionary.\"\n",
    "assert min(tep, key=tep.get) in ['X', 'CONJ'], \"Hmmm...'X' or 'CONJ' should be the least common ending bigram.\"\n",
    "assert max(tep, key=tep.get) == '.', \"Hmmm...'.' is expected to be the most common ending bigram.\"\n",
    "HTML('<div class=\"alert alert-block alert-success\">Your ending tag counts look good!</div>')"
   ]
  },
  {
   "cell_type": "markdown",
   "metadata": {},
   "source": [
    "### (15) Build Lazy Hidden Markov Model Tagger.  \n",
    "The lazy term relates to only predicting once left to right through the sequence,  \n",
    "and then only itterating through known combinations seen in the training set.  \n",
    "This is adapted from the approach taught in class."
   ]
  },
  {
   "cell_type": "code",
   "execution_count": 52,
   "metadata": {},
   "outputs": [],
   "source": [
    "# build emission and transition probability product function\n",
    "# transition is from prior tag to now tag\n",
    "# emission is from now tag to now word\n",
    "def prb_prd(t_prior, t_now, w_now):\n",
    "    # prior-now tag transition probability\n",
    "    pt = prb_bt((t_prior,t_now)) \n",
    "    # tag-word emission probability\n",
    "    pe = emission_counts[t_now][w_now.lower()]\n",
    "    # return product\n",
    "    return pt * pe"
   ]
  },
  {
   "cell_type": "code",
   "execution_count": 53,
   "metadata": {},
   "outputs": [],
   "source": [
    "# build function to find most likely tag from the tag prior\n",
    "# this is used when no tags are found for a given unknown word\n",
    "def unk_tag(t_prior):\n",
    "    # initialize to find max probability\n",
    "    p = 0\n",
    "    tmx = ''\n",
    "    # search through all possible pairings\n",
    "    for tag in pos_types:\n",
    "        # retrieve the probability\n",
    "        pbt = prb_bt((t_prior,tag))\n",
    "        # test if it is the maximum ever seen\n",
    "        if (pbt > p):\n",
    "            tmx = tag\n",
    "            p = pbt\n",
    "    return tmx"
   ]
  },
  {
   "cell_type": "code",
   "execution_count": 54,
   "metadata": {},
   "outputs": [],
   "source": [
    "# build part of speach tag predition function\n",
    "def pos_pred(t_prior, w_now):\n",
    "    \n",
    "    #initialize max function\n",
    "    p = 1\n",
    "    pmax = 0\n",
    "    tag_pred = ''\n",
    "    \n",
    "    #retreive list of possible now-word pos-tags\n",
    "        #assume others unlikely for speed\n",
    "        #this is where the term 'lazy' comes in\n",
    "        #because it does not check all possibilities\n",
    "    t_now = list(wtp_train[w_now.lower()].keys())\n",
    "    #check if list is empty via unknown word\n",
    "    if (t_now ==[]):\n",
    "        #if unknown use most probable from prior tag\n",
    "        return unk_tag(t_prior)\n",
    "    \n",
    "    else:   \n",
    "        # find maximum probability path\n",
    "        # lazy as looking at only seen possibilities\n",
    "        for tag in t_now:\n",
    "            # past transition-emission prob product\n",
    "            p1 = prb_prd(t_prior, tag, w_now) \n",
    "            if p1 > pmax:\n",
    "                tag_pred = tag\n",
    "                pmax = p1\n",
    "                    \n",
    "    return tag_pred  "
   ]
  },
  {
   "cell_type": "code",
   "execution_count": 55,
   "metadata": {},
   "outputs": [
    {
     "data": {
      "text/plain": [
       "'VERB'"
      ]
     },
     "execution_count": 55,
     "metadata": {},
     "output_type": "execute_result"
    }
   ],
   "source": [
    "# test the function predict tag for middle enty\n",
    "pos_pred('NOUN','worked')"
   ]
  },
  {
   "cell_type": "markdown",
   "metadata": {},
   "source": [
    "The function worked for the verb 'worked'."
   ]
  },
  {
   "cell_type": "code",
   "execution_count": 56,
   "metadata": {},
   "outputs": [],
   "source": [
    "# build predicted pos list for a sentence\n",
    "def pos_sen(wordlist):\n",
    "    t_prior = '<START>'\n",
    "    p_list = []\n",
    "    for i in range(len(wordlist)):\n",
    "        pretag = pos_pred(t_prior, wordlist[i])\n",
    "        t_prior = pretag\n",
    "        p_list.append(pretag)\n",
    "    return p_list      "
   ]
  },
  {
   "cell_type": "code",
   "execution_count": 57,
   "metadata": {},
   "outputs": [
    {
     "data": {
      "text/html": [
       "<div>\n",
       "<style scoped>\n",
       "    .dataframe tbody tr th:only-of-type {\n",
       "        vertical-align: middle;\n",
       "    }\n",
       "\n",
       "    .dataframe tbody tr th {\n",
       "        vertical-align: top;\n",
       "    }\n",
       "\n",
       "    .dataframe thead th {\n",
       "        text-align: right;\n",
       "    }\n",
       "</style>\n",
       "<table border=\"1\" class=\"dataframe\">\n",
       "  <thead>\n",
       "    <tr style=\"text-align: right;\">\n",
       "      <th></th>\n",
       "      <th>category</th>\n",
       "      <th>words</th>\n",
       "      <th>pos_target</th>\n",
       "      <th>mfc_pred</th>\n",
       "      <th>lzy_pred</th>\n",
       "    </tr>\n",
       "    <tr>\n",
       "      <th>b100</th>\n",
       "      <th></th>\n",
       "      <th></th>\n",
       "      <th></th>\n",
       "      <th></th>\n",
       "      <th></th>\n",
       "    </tr>\n",
       "  </thead>\n",
       "  <tbody>\n",
       "    <tr>\n",
       "      <th>41158</th>\n",
       "      <td>fiction</td>\n",
       "      <td>[Beckworth, left, the, tent, .]</td>\n",
       "      <td>[NOUN, VERB, DET, NOUN, .]</td>\n",
       "      <td>[NOUN, VERB, DET, NOUN, .]</td>\n",
       "      <td>[NOUN, VERB, DET, NOUN, .]</td>\n",
       "    </tr>\n",
       "    <tr>\n",
       "      <th>16955</th>\n",
       "      <td>lore</td>\n",
       "      <td>[When, Hudson, had, finished, ,, the, ``, town...</td>\n",
       "      <td>[ADV, NOUN, VERB, VERB, ., DET, ., NOUN, NOUN,...</td>\n",
       "      <td>[ADV, NOUN, VERB, VERB, ., DET, ., NOUN, NOUN,...</td>\n",
       "      <td>[ADV, NOUN, VERB, VERB, ., DET, ., NOUN, NOUN,...</td>\n",
       "    </tr>\n",
       "    <tr>\n",
       "      <th>2557</th>\n",
       "      <td>news</td>\n",
       "      <td>[The, World, War, 2, ,, German, bomber, rolled...</td>\n",
       "      <td>[DET, NOUN, NOUN, NUM, ., ADJ, NOUN, VERB, ADP...</td>\n",
       "      <td>[DET, NOUN, NOUN, NUM, ., ADJ, NOUN, VERB, PRT...</td>\n",
       "      <td>[DET, NOUN, NOUN, NUM, ., NOUN, NOUN, VERB, PR...</td>\n",
       "    </tr>\n",
       "    <tr>\n",
       "      <th>57080</th>\n",
       "      <td>humor</td>\n",
       "      <td>[``, Arlene's, a, good, girl, '', ,, my, uncle...</td>\n",
       "      <td>[., PRT, DET, ADJ, NOUN, ., ., DET, NOUN, VERB...</td>\n",
       "      <td>[., PRT, DET, ADJ, NOUN, ., ., DET, NOUN, VERB...</td>\n",
       "      <td>[., PRT, DET, ADJ, NOUN, ., ., DET, NOUN, VERB...</td>\n",
       "    </tr>\n",
       "    <tr>\n",
       "      <th>6751</th>\n",
       "      <td>editorial</td>\n",
       "      <td>[There's, no, sense, in, being, reminded, of, ...</td>\n",
       "      <td>[PRT, DET, NOUN, ADP, VERB, VERB, ADP, NOUN, P...</td>\n",
       "      <td>[PRT, DET, NOUN, ADP, VERB, VERB, ADP, NOUN, A...</td>\n",
       "      <td>[PRT, DET, NOUN, ADP, VERB, VERB, ADP, NOUN, A...</td>\n",
       "    </tr>\n",
       "  </tbody>\n",
       "</table>\n",
       "</div>"
      ],
      "text/plain": [
       "        category                                              words  \\\n",
       "b100                                                                  \n",
       "41158    fiction                    [Beckworth, left, the, tent, .]   \n",
       "16955       lore  [When, Hudson, had, finished, ,, the, ``, town...   \n",
       "2557        news  [The, World, War, 2, ,, German, bomber, rolled...   \n",
       "57080      humor  [``, Arlene's, a, good, girl, '', ,, my, uncle...   \n",
       "6751   editorial  [There's, no, sense, in, being, reminded, of, ...   \n",
       "\n",
       "                                              pos_target  \\\n",
       "b100                                                       \n",
       "41158                         [NOUN, VERB, DET, NOUN, .]   \n",
       "16955  [ADV, NOUN, VERB, VERB, ., DET, ., NOUN, NOUN,...   \n",
       "2557   [DET, NOUN, NOUN, NUM, ., ADJ, NOUN, VERB, ADP...   \n",
       "57080  [., PRT, DET, ADJ, NOUN, ., ., DET, NOUN, VERB...   \n",
       "6751   [PRT, DET, NOUN, ADP, VERB, VERB, ADP, NOUN, P...   \n",
       "\n",
       "                                                mfc_pred  \\\n",
       "b100                                                       \n",
       "41158                         [NOUN, VERB, DET, NOUN, .]   \n",
       "16955  [ADV, NOUN, VERB, VERB, ., DET, ., NOUN, NOUN,...   \n",
       "2557   [DET, NOUN, NOUN, NUM, ., ADJ, NOUN, VERB, PRT...   \n",
       "57080  [., PRT, DET, ADJ, NOUN, ., ., DET, NOUN, VERB...   \n",
       "6751   [PRT, DET, NOUN, ADP, VERB, VERB, ADP, NOUN, A...   \n",
       "\n",
       "                                                lzy_pred  \n",
       "b100                                                      \n",
       "41158                         [NOUN, VERB, DET, NOUN, .]  \n",
       "16955  [ADV, NOUN, VERB, VERB, ., DET, ., NOUN, NOUN,...  \n",
       "2557   [DET, NOUN, NOUN, NUM, ., NOUN, NOUN, VERB, PR...  \n",
       "57080  [., PRT, DET, ADJ, NOUN, ., ., DET, NOUN, VERB...  \n",
       "6751   [PRT, DET, NOUN, ADP, VERB, VERB, ADP, NOUN, A...  "
      ]
     },
     "execution_count": 57,
     "metadata": {},
     "output_type": "execute_result"
    }
   ],
   "source": [
    "# append dataframe with lazy-prediction lists\n",
    "def hmm_pred(df):\n",
    "    pred_test = []\n",
    "    for _,nrows in df.iterrows():\n",
    "        pred_test.append(pos_sen(nrows['words']))\n",
    "    df['lzy_pred'] = pred_test\n",
    "    \n",
    "#update the train and test dataframes\n",
    "hmm_pred(df_train)\n",
    "hmm_pred(df_test)\n",
    "\n",
    "#view some of a dataframe\n",
    "df_train.head()"
   ]
  },
  {
   "cell_type": "markdown",
   "metadata": {},
   "source": [
    "### (16) Compute the Lazy HMM accuracy."
   ]
  },
  {
   "cell_type": "code",
   "execution_count": 58,
   "metadata": {},
   "outputs": [
    {
     "name": "stdout",
     "output_type": "stream",
     "text": [
      "training accuracy lazy_model: 95.58%\n",
      "testing accuracy lazy_model: 94.47%\n"
     ]
    }
   ],
   "source": [
    "lazy_training_acc = accuracy(df_train, 'pos_target', 'lzy_pred')\n",
    "print(\"training accuracy lazy_model: {:.2f}%\".format(100 * mfc_training_acc))\n",
    "\n",
    "lazy_testing_acc = accuracy(df_test, 'pos_target', 'lzy_pred')\n",
    "print(\"testing accuracy lazy_model: {:.2f}%\".format(100 * mfc_testing_acc))"
   ]
  },
  {
   "cell_type": "code",
   "execution_count": 59,
   "metadata": {},
   "outputs": [
    {
     "name": "stdout",
     "output_type": "stream",
     "text": [
      "words:\n",
      "['He', 'had', 'taken', 'her', 'all', 'right', '.']\n",
      "target:\n",
      "['PRON', 'VERB', 'VERB', 'PRON', 'ADV', 'ADV', '.']\n",
      "prediction:\n",
      "['PRON', 'VERB', 'VERB', 'DET', 'PRT', 'ADV', '.']\n"
     ]
    }
   ],
   "source": [
    "# print out a testing example\n",
    "for n in list(df_test.index[0:1]):\n",
    "    print('words:\\n{}'.format(df_test['words'][n]))\n",
    "    print('target:\\n{}'.format(df_test['pos_target'][n]))\n",
    "    print('prediction:\\n{}'.format(df_test['lzy_pred'][n], '\\n'))"
   ]
  },
  {
   "cell_type": "code",
   "execution_count": 60,
   "metadata": {},
   "outputs": [
    {
     "name": "stdout",
     "output_type": "stream",
     "text": [
      "words:\n",
      "['Beckworth', 'left', 'the', 'tent', '.']\n",
      "target:\n",
      "['NOUN', 'VERB', 'DET', 'NOUN', '.']\n",
      "prediction:\n",
      "['NOUN', 'VERB', 'DET', 'NOUN', '.']\n"
     ]
    }
   ],
   "source": [
    "# print out a training examples\n",
    "for n in list(df_train.index[0:1]):\n",
    "    print('words:\\n{}'.format(df_train['words'][n]))\n",
    "    print('target:\\n{}'.format(df_train['pos_target'][n]))\n",
    "    print('prediction:\\n{}'.format(df_train['lzy_pred'][n], '\\n'))"
   ]
  },
  {
   "cell_type": "markdown",
   "metadata": {},
   "source": [
    "The Lazy HMM tagger seems comparable to the MFC, accuracy wise.  \n",
    "However, the precision and recall figures likely differ.  "
   ]
  },
  {
   "cell_type": "markdown",
   "metadata": {},
   "source": [
    "### (17) Build the Pomegranate Hidden Markov Model Tagger."
   ]
  },
  {
   "cell_type": "code",
   "execution_count": 61,
   "metadata": {},
   "outputs": [],
   "source": [
    "# for the HMM find the most common noun given a category\n",
    "# build dictionary of category nouns\n",
    "cnw = defaultdict(Counter)\n",
    "for _,nrows in df_train.iterrows():\n",
    "    # count noun words\n",
    "    for num, wrd in enumerate(nrows['words']):\n",
    "        if (nrows['pos_target'][num] == 'NOUN'):\n",
    "            cnw[nrows['category']][wrd.lower()] += 1\n",
    "            \n",
    "#list the most frequent nouns in the categories\n",
    "catnoun = [cnw[c].most_common()[0][0] for c in categories]\n",
    "\n",
    "# build function to return most common noun from category\n",
    "def cat_noun(category):\n",
    "    return catnoun[categories.index(category)]"
   ]
  },
  {
   "cell_type": "code",
   "execution_count": 62,
   "metadata": {},
   "outputs": [
    {
     "name": "stdout",
     "output_type": "stream",
     "text": [
      "['man', 'time', 'mr.', 'man', 'state', 'time', 'time', 'af', 'time', 'man', 'mrs.', 'god', 'mr.', 'time', 'time']\n"
     ]
    }
   ],
   "source": [
    "# reveal how the most common nouns differ by category\n",
    "print([cat_noun(k) for k in categories])"
   ]
  },
  {
   "cell_type": "code",
   "execution_count": 63,
   "metadata": {},
   "outputs": [],
   "source": [
    "# re-format the data and load it into the model\n",
    "\n",
    "# state tags\n",
    "state_names = pos_types\n",
    "\n",
    "# start probabilities\n",
    "starts = [tsp[k] for k in state_names]\n",
    "\n",
    "# end probabilities\n",
    "ends = [tep[k] for k in state_names]\n",
    "\n",
    "# tag to word emission distributions\n",
    "distributions = [DiscreteDistribution(dict(emission_counts[k])) for k in state_names]\n",
    "\n",
    "# tag transition probabilities\n",
    "matrix = list(map(lambda x:[prb_bt((x,y)) for y in state_names], state_names))\n",
    "\n",
    "# define model\n",
    "model = HiddenMarkovModel.from_matrix(matrix,distributions,starts,ends,state_names,name='first_try')\n",
    "\n",
    "# bake the model\n",
    "model.bake( verbose=False )"
   ]
  },
  {
   "cell_type": "code",
   "execution_count": 64,
   "metadata": {},
   "outputs": [],
   "source": [
    "# predict tags from sentences\n",
    "def vitpred(sentence, category):\n",
    "    # convert to lowercase\n",
    "    sen = [k.lower() for k in sentence]\n",
    "    # send a substitution for unknown words\n",
    "    for n, i in enumerate(sen):\n",
    "        # we built outwords using Venn diagram logic\n",
    "        if i in outwords:\n",
    "            # substitute most common noun in category\n",
    "            sen[n] = cat_noun(category)\n",
    "    \n",
    "    # predict the tags\n",
    "    p_list = model.predict(sen, algorithm='viterbi')\n",
    "    # decode the tags\n",
    "    return [state_names[k] for k in p_list[1:-1]]"
   ]
  },
  {
   "cell_type": "code",
   "execution_count": 65,
   "metadata": {},
   "outputs": [
    {
     "name": "stdout",
     "output_type": "stream",
     "text": [
      "['DET', 'ADJ', 'NOUN', 'ADP', 'NOUN', 'ADP', 'DET', 'ADV', 'VERB', 'NOUN', 'NOUN', '.']\n"
     ]
    }
   ],
   "source": [
    "# try a sample sentence\n",
    "sample = ['The', 'slim', 'pirogues', 'in', 'harmony', 'with', 'the', 'majestically', 'meandering', 'Mekong', 'River', '.']\n",
    "print(vitpred(sample,'lore'))"
   ]
  },
  {
   "cell_type": "code",
   "execution_count": 66,
   "metadata": {},
   "outputs": [
    {
     "data": {
      "text/html": [
       "<div>\n",
       "<style scoped>\n",
       "    .dataframe tbody tr th:only-of-type {\n",
       "        vertical-align: middle;\n",
       "    }\n",
       "\n",
       "    .dataframe tbody tr th {\n",
       "        vertical-align: top;\n",
       "    }\n",
       "\n",
       "    .dataframe thead th {\n",
       "        text-align: right;\n",
       "    }\n",
       "</style>\n",
       "<table border=\"1\" class=\"dataframe\">\n",
       "  <thead>\n",
       "    <tr style=\"text-align: right;\">\n",
       "      <th></th>\n",
       "      <th>category</th>\n",
       "      <th>words</th>\n",
       "      <th>pos_target</th>\n",
       "      <th>mfc_pred</th>\n",
       "      <th>lzy_pred</th>\n",
       "      <th>hmm_pred</th>\n",
       "    </tr>\n",
       "    <tr>\n",
       "      <th>b100</th>\n",
       "      <th></th>\n",
       "      <th></th>\n",
       "      <th></th>\n",
       "      <th></th>\n",
       "      <th></th>\n",
       "      <th></th>\n",
       "    </tr>\n",
       "  </thead>\n",
       "  <tbody>\n",
       "    <tr>\n",
       "      <th>41158</th>\n",
       "      <td>fiction</td>\n",
       "      <td>[Beckworth, left, the, tent, .]</td>\n",
       "      <td>[NOUN, VERB, DET, NOUN, .]</td>\n",
       "      <td>[NOUN, VERB, DET, NOUN, .]</td>\n",
       "      <td>[NOUN, VERB, DET, NOUN, .]</td>\n",
       "      <td>[NOUN, VERB, DET, NOUN, .]</td>\n",
       "    </tr>\n",
       "    <tr>\n",
       "      <th>16955</th>\n",
       "      <td>lore</td>\n",
       "      <td>[When, Hudson, had, finished, ,, the, ``, town...</td>\n",
       "      <td>[ADV, NOUN, VERB, VERB, ., DET, ., NOUN, NOUN,...</td>\n",
       "      <td>[ADV, NOUN, VERB, VERB, ., DET, ., NOUN, NOUN,...</td>\n",
       "      <td>[ADV, NOUN, VERB, VERB, ., DET, ., NOUN, NOUN,...</td>\n",
       "      <td>[ADV, NOUN, VERB, VERB, ., DET, ., NOUN, NOUN,...</td>\n",
       "    </tr>\n",
       "    <tr>\n",
       "      <th>2557</th>\n",
       "      <td>news</td>\n",
       "      <td>[The, World, War, 2, ,, German, bomber, rolled...</td>\n",
       "      <td>[DET, NOUN, NOUN, NUM, ., ADJ, NOUN, VERB, ADP...</td>\n",
       "      <td>[DET, NOUN, NOUN, NUM, ., ADJ, NOUN, VERB, PRT...</td>\n",
       "      <td>[DET, NOUN, NOUN, NUM, ., NOUN, NOUN, VERB, PR...</td>\n",
       "      <td>[DET, NOUN, NOUN, NUM, ., ADJ, NOUN, VERB, ADP...</td>\n",
       "    </tr>\n",
       "    <tr>\n",
       "      <th>57080</th>\n",
       "      <td>humor</td>\n",
       "      <td>[``, Arlene's, a, good, girl, '', ,, my, uncle...</td>\n",
       "      <td>[., PRT, DET, ADJ, NOUN, ., ., DET, NOUN, VERB...</td>\n",
       "      <td>[., PRT, DET, ADJ, NOUN, ., ., DET, NOUN, VERB...</td>\n",
       "      <td>[., PRT, DET, ADJ, NOUN, ., ., DET, NOUN, VERB...</td>\n",
       "      <td>[., PRT, DET, ADJ, NOUN, ., ., DET, NOUN, VERB...</td>\n",
       "    </tr>\n",
       "    <tr>\n",
       "      <th>6751</th>\n",
       "      <td>editorial</td>\n",
       "      <td>[There's, no, sense, in, being, reminded, of, ...</td>\n",
       "      <td>[PRT, DET, NOUN, ADP, VERB, VERB, ADP, NOUN, P...</td>\n",
       "      <td>[PRT, DET, NOUN, ADP, VERB, VERB, ADP, NOUN, A...</td>\n",
       "      <td>[PRT, DET, NOUN, ADP, VERB, VERB, ADP, NOUN, A...</td>\n",
       "      <td>[PRT, DET, NOUN, ADP, VERB, VERB, ADP, NOUN, A...</td>\n",
       "    </tr>\n",
       "  </tbody>\n",
       "</table>\n",
       "</div>"
      ],
      "text/plain": [
       "        category                                              words  \\\n",
       "b100                                                                  \n",
       "41158    fiction                    [Beckworth, left, the, tent, .]   \n",
       "16955       lore  [When, Hudson, had, finished, ,, the, ``, town...   \n",
       "2557        news  [The, World, War, 2, ,, German, bomber, rolled...   \n",
       "57080      humor  [``, Arlene's, a, good, girl, '', ,, my, uncle...   \n",
       "6751   editorial  [There's, no, sense, in, being, reminded, of, ...   \n",
       "\n",
       "                                              pos_target  \\\n",
       "b100                                                       \n",
       "41158                         [NOUN, VERB, DET, NOUN, .]   \n",
       "16955  [ADV, NOUN, VERB, VERB, ., DET, ., NOUN, NOUN,...   \n",
       "2557   [DET, NOUN, NOUN, NUM, ., ADJ, NOUN, VERB, ADP...   \n",
       "57080  [., PRT, DET, ADJ, NOUN, ., ., DET, NOUN, VERB...   \n",
       "6751   [PRT, DET, NOUN, ADP, VERB, VERB, ADP, NOUN, P...   \n",
       "\n",
       "                                                mfc_pred  \\\n",
       "b100                                                       \n",
       "41158                         [NOUN, VERB, DET, NOUN, .]   \n",
       "16955  [ADV, NOUN, VERB, VERB, ., DET, ., NOUN, NOUN,...   \n",
       "2557   [DET, NOUN, NOUN, NUM, ., ADJ, NOUN, VERB, PRT...   \n",
       "57080  [., PRT, DET, ADJ, NOUN, ., ., DET, NOUN, VERB...   \n",
       "6751   [PRT, DET, NOUN, ADP, VERB, VERB, ADP, NOUN, A...   \n",
       "\n",
       "                                                lzy_pred  \\\n",
       "b100                                                       \n",
       "41158                         [NOUN, VERB, DET, NOUN, .]   \n",
       "16955  [ADV, NOUN, VERB, VERB, ., DET, ., NOUN, NOUN,...   \n",
       "2557   [DET, NOUN, NOUN, NUM, ., NOUN, NOUN, VERB, PR...   \n",
       "57080  [., PRT, DET, ADJ, NOUN, ., ., DET, NOUN, VERB...   \n",
       "6751   [PRT, DET, NOUN, ADP, VERB, VERB, ADP, NOUN, A...   \n",
       "\n",
       "                                                hmm_pred  \n",
       "b100                                                      \n",
       "41158                         [NOUN, VERB, DET, NOUN, .]  \n",
       "16955  [ADV, NOUN, VERB, VERB, ., DET, ., NOUN, NOUN,...  \n",
       "2557   [DET, NOUN, NOUN, NUM, ., ADJ, NOUN, VERB, ADP...  \n",
       "57080  [., PRT, DET, ADJ, NOUN, ., ., DET, NOUN, VERB...  \n",
       "6751   [PRT, DET, NOUN, ADP, VERB, VERB, ADP, NOUN, A...  "
      ]
     },
     "execution_count": 66,
     "metadata": {},
     "output_type": "execute_result"
    }
   ],
   "source": [
    "# append dataframe with hmm-prediction lists\n",
    "def viterbi_pred(df):\n",
    "    pred_test = []\n",
    "    \n",
    "    for _,nrows in df.iterrows():\n",
    "        pred_test.append(vitpred(nrows['words'], nrows['category']))\n",
    "    df['hmm_pred'] = pred_test\n",
    "    \n",
    "#update the train and test dataframes\n",
    "viterbi_pred(df_train)\n",
    "viterbi_pred(df_test)\n",
    "\n",
    "#view some of a dataframe\n",
    "df_train.head()"
   ]
  },
  {
   "cell_type": "code",
   "execution_count": 67,
   "metadata": {},
   "outputs": [
    {
     "data": {
      "text/html": [
       "<div class=\"alert alert-block alert-success\">Your HMM network topology looks good!</div>"
      ],
      "text/plain": [
       "<IPython.core.display.HTML object>"
      ]
     },
     "execution_count": 67,
     "metadata": {},
     "output_type": "execute_result"
    }
   ],
   "source": [
    "assert all(tag in set(state_names) for tag in pos_types), \\\n",
    "       \"Every state in your network should use the name of the associated tag, which must be one of the training set tags.\"\n",
    "assert (len(starts)+(len(state_names))**2 + len(ends)) == 168, \\\n",
    "       (\"Your network should have an edge from the start node to each state, one edge between every \" +\n",
    "        \"pair of tags (states), and an edge from each state to the end node.\")\n",
    "HTML('<div class=\"alert alert-block alert-success\">Your HMM network topology looks good!</div>')"
   ]
  },
  {
   "cell_type": "markdown",
   "metadata": {},
   "source": [
    "### (18) Compute the Pomegranate HMM accuracy."
   ]
  },
  {
   "cell_type": "code",
   "execution_count": 68,
   "metadata": {},
   "outputs": [
    {
     "name": "stdout",
     "output_type": "stream",
     "text": [
      "training accuracy basic hmm model: 96.86%\n",
      "testing accuracy basic hmm model: 95.70%\n"
     ]
    },
    {
     "data": {
      "text/html": [
       "<div class=\"alert alert-block alert-success\">Your HMM tagger accuracy looks correct! Congratulations, you've finished the project.</div>"
      ],
      "text/plain": [
       "<IPython.core.display.HTML object>"
      ]
     },
     "execution_count": 68,
     "metadata": {},
     "output_type": "execute_result"
    }
   ],
   "source": [
    "hmm_training_acc = accuracy(df_train, 'pos_target','hmm_pred')\n",
    "print(\"training accuracy basic hmm model: {:.2f}%\".format(100 * hmm_training_acc))\n",
    "\n",
    "hmm_testing_acc = accuracy(df_test, 'pos_target','hmm_pred')\n",
    "print(\"testing accuracy basic hmm model: {:.2f}%\".format(100 * hmm_testing_acc))\n",
    "\n",
    "assert round(hmm_training_acc,2) >= 0.97, \"Uh oh. Your HMM accuracy on the training set doesn't look right.\"\n",
    "assert hmm_testing_acc > 0.955, \"Uh oh. Your HMM accuracy on the testing set doesn't look right.\"\n",
    "HTML('<div class=\"alert alert-block alert-success\">Your HMM tagger accuracy looks correct! Congratulations, you\\'ve finished the project.</div>')"
   ]
  },
  {
   "cell_type": "markdown",
   "metadata": {},
   "source": [
    "### (19) Assess the HMM model quality."
   ]
  },
  {
   "cell_type": "code",
   "execution_count": 69,
   "metadata": {},
   "outputs": [
    {
     "data": {
      "image/png": "[encoded data removed]",
      "text/plain": [
       "<Figure size 1440x720 with 2 Axes>"
      ]
     },
     "metadata": {
      "needs_background": "light"
     },
     "output_type": "display_data"
    }
   ],
   "source": [
    "# build a hmm confusion matrix based on test predictions\n",
    "y_test = []\n",
    "y_pred = []\n",
    "for i,nrows in df_test.iterrows():\n",
    "    for num,wrd in enumerate(nrows['words']):\n",
    "        y_test.append(nrows['pos_target'][num])\n",
    "        y_pred.append(nrows['hmm_pred'][num])\n",
    "#compute       \n",
    "cm = confusion_matrix(y_test, y_pred)\n",
    "#normalize\n",
    "#cm = cm.astype('float') / cm.sum(axis=1)[:, np.newaxis]\n",
    "#format\n",
    "np.set_printoptions(precision=2)\n",
    "#plot\n",
    "plt.figure(figsize=(20,10))\n",
    "plt.imshow(cm, interpolation='nearest', cmap=plt.cm.Blues)\n",
    "plt.title('HMM Confusion Matrix')\n",
    "plt.colorbar()\n",
    "tick_marks = np.arange(len(pos_types))\n",
    "plt.xticks(tick_marks, pos_types, rotation=45)\n",
    "plt.yticks(tick_marks, pos_types)\n",
    "#fmt = '.2f'\n",
    "fmt = 'd'\n",
    "thresh = cm.max() / 2.\n",
    "for i, j in itertools.product(range(cm.shape[0]), range(cm.shape[1])):\n",
    "    plt.text(j, i, format(cm[i, j], fmt),\n",
    "                horizontalalignment=\"center\",\n",
    "                color=\"white\" if cm[i, j] > thresh else \"black\")\n",
    "plt.ylabel('True label')\n",
    "plt.xlabel('Predicted label')\n",
    "plt.tight_layout()"
   ]
  },
  {
   "cell_type": "code",
   "execution_count": 70,
   "metadata": {},
   "outputs": [
    {
     "name": "stdout",
     "output_type": "stream",
     "text": [
      "              precision    recall  f1-score   support\n",
      "\n",
      "           .       1.00      1.00      1.00     29403\n",
      "         ADJ       0.94      0.88      0.91     16885\n",
      "         ADP       0.93      0.98      0.96     29201\n",
      "         ADV       0.94      0.87      0.90     11224\n",
      "        CONJ       0.99      0.99      0.99      7572\n",
      "         DET       0.99      0.99      0.99     27409\n",
      "        NOUN       0.92      0.99      0.95     55189\n",
      "         NUM       1.00      0.81      0.90      3016\n",
      "        PRON       0.99      0.95      0.97      9840\n",
      "         PRT       0.93      0.79      0.86      5912\n",
      "        VERB       0.98      0.94      0.96     36473\n",
      "           X       0.97      0.27      0.42       276\n",
      "\n",
      "   micro avg       0.96      0.96      0.96    232400\n",
      "   macro avg       0.97      0.87      0.90    232400\n",
      "weighted avg       0.96      0.96      0.96    232400\n",
      "\n"
     ]
    }
   ],
   "source": [
    "# generate classification report for test predictions\n",
    "print(metrics.classification_report(y_test, y_pred))"
   ]
  },
  {
   "cell_type": "markdown",
   "metadata": {},
   "source": [
    "### (20) Comparison between MFC and HMM taggers.\n",
    "The HMM is about 1.3% more accurate than the MFC on the training set.  \n",
    "The HMM is about 1.3% more accurate than the MFC on the testing set.   \n",
    "\n",
    "However, accuracy depends upon the part of speech tag type.  \n",
    "Relatively low f1-scores are found on some of the part of speech tags.  \n",
    "X, PRT, NUM, ADV, and ADJ part of speech types tend to score lower."
   ]
  },
  {
   "cell_type": "code",
   "execution_count": null,
   "metadata": {},
   "outputs": [],
   "source": []
  }
 ],
 "metadata": {
  "kernelspec": {
   "display_name": "Python 3",
   "language": "python",
   "name": "python3"
  },
  "language_info": {
   "codemirror_mode": {
    "name": "ipython",
    "version": 3
   },
   "file_extension": ".py",
   "mimetype": "text/x-python",
   "name": "python",
   "nbconvert_exporter": "python",
   "pygments_lexer": "ipython3",
   "version": "3.6.7"
  }
 },
 "nbformat": 4,
 "nbformat_minor": 2
}
